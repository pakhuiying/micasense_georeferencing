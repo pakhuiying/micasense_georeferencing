{
 "cells": [
  {
   "cell_type": "code",
   "execution_count": 1,
   "metadata": {},
   "outputs": [],
   "source": [
    "import micasense.imageset\n",
    "import micasense.capture\n",
    "import micasense.imageset as imageset\n",
    "\n",
    "import cv2\n",
    "import os, glob\n",
    "import json\n",
    "import pickle #This library will maintain the format as well\n",
    "from osgeo import gdal,osr\n",
    "import matplotlib.pyplot as plt\n",
    "import numpy as np\n",
    "import pandas as pd\n",
    "import PIL.Image as Image\n",
    "import exiftool\n",
    "import datetime\n",
    "from math import ceil\n",
    "from tqdm import tqdm\n",
    "\n",
    "import algorithms.mutils as mutils"
   ]
  },
  {
   "cell_type": "markdown",
   "metadata": {},
   "source": [
    "# README\n",
    "\n",
    "This python notebook details the preprocessing steps needed to prepare the UAV imagery before direct georeferencing (to make things much easier). The preprocessing step is largely based on [Micasense's image processing library]() with some modifications to it.\n",
    "\n",
    "## Folder organisation\n",
    "- **flight folder** (a folder that contains all the images captured from a flight, as well as meta data, and processed data used the micasense's image processing library).\n",
    "- **RawImg** (a folder that contains all the band images captured from a flight e.g. *IMG_0000_1.tif* to *IMG_xxxx_10.tif*. One can easily create a folder named \"RawImg\" and shift all the raw images here).\n",
    "    - *IMG* is the prefix for all image captures\n",
    "    - *_0000* is the index of the image (each capture should have a unique index)\n",
    "    - *_1* is the band number of the capture, e.g. for a 10-band image, the band number will range from 1 - 10. So each capture will have 10 images e.g. *IMG_0000_1* to *IMG_0000_10*.\n",
    "- **flight_attributes** (_TO BE CREATED AFTER PREPROCESSING_: a folder that contains the metadata of each capture from the flight).\n",
    "    - *flight_attributes.csv* a csv file that is automatically generated from the modified micasense preprocessing library\n",
    "    - *gps_index.txt* a text file that contains the selected gps points selected from the GUI in `algorithms/select_GPS.py`. Run `algorithms/select_GPS.py` to interactively select the start and end points of the flight swaths.\n",
    "- **stacks** (_TO BE CREATED AFTER PREPROCESSING_: a folder that contains the processed band images, where band images are all band-aligned to create a multispectral image). e.g. the postfix (as a default) always ends with *_1*, but all images in the stacks folder should have a unique image index.\n",
    "- **thumbnails** (_TO BE CREATED AFTER PREPROCESSING_: a folder that contains the thumbnail rgb of each capture, which allows for fast plotting of rgb orthomosaics)\n",
    "```\n",
    "flight folder (*imagePath*)\n",
    "|\n",
    "│\n",
    "└───flight_attributes (*to be created*)\n",
    "│   │   flight_attributes.csv\n",
    "│   │   gps_index.txt\n",
    "│   \n",
    "└───RawImg\n",
    "|   │   IMG_0000_1.tif\n",
    "|   │   IMG_0000_2.tif\n",
    "|   |   ...\n",
    "└───stacks (*to be created*)\n",
    "|   │   IMG_0000_1.tif\n",
    "|   │   IMG_0001_1.tif\n",
    "|   |   ...\n",
    "└───thumbnails (*to be created*)\n",
    "    │   IMG_0000_1.jpg\n",
    "    │   IMG_0001_1.jpg\n",
    "    |   ...\n",
    "```"
   ]
  },
  {
   "cell_type": "code",
   "execution_count": 2,
   "metadata": {},
   "outputs": [
    {
     "name": "stdout",
     "output_type": "stream",
     "text": [
      "(20.0, 34.0, 1226.0, 919.0)\n"
     ]
    }
   ],
   "source": [
    "panelNames = None\n",
    "useDLS = True\n",
    "\n",
    "imagePath =  r\"D:\\EPMC_flight\\16thSur22Nov\\F1\"\n",
    "\n",
    "# directory which contains raw images\n",
    "rawImagePath = os.path.join(imagePath,'RawImg')\n",
    "\n",
    "# identify the image that has the QR code\n",
    "panelNames = glob.glob(os.path.join(rawImagePath,'IMG_0000_*.tif'))\n",
    "\n",
    "outputPath = os.path.join(imagePath,'stacks')\n",
    "thumbnailPath = os.path.join(imagePath, 'thumbnails')\n",
    "\n",
    "overwrite = False # Set to False to continue interrupted processing\n",
    "generateThumbnails = True\n",
    "\n",
    "# Allow this code to align both radiance and reflectance images; bu excluding\n",
    "# a definition for panelNames above, radiance images will be used\n",
    "# For panel images, efforts will be made to automatically extract the panel information\n",
    "# but if the panel/firmware is before Altum 1.3.5, RedEdge 5.1.7 the panel reflectance\n",
    "# will need to be set in the panel_reflectance_by_band variable.\n",
    "# Note: radiance images will not be used to properly create NDVI/NDRE images below.\n",
    "if panelNames is not None:\n",
    "    panelCap = micasense.capture.Capture.from_filelist(panelNames)\n",
    "    warp_matrices = panelCap.get_warp_matrices()\n",
    "    cropped_dimensions, _ = micasense.imageutils.find_crop_bounds(panelCap, warp_matrices, warp_mode=cv2.MOTION_HOMOGRAPHY)\n",
    "    print(cropped_dimensions)\n",
    "else:\n",
    "    panelCap = None\n",
    "    warp_matrices = None\n",
    "if panelCap is not None:\n",
    "    if panelCap.panel_albedo() is not None:\n",
    "        panel_reflectance_by_band = panelCap.panel_albedo()\n",
    "    else:\n",
    "        panel_reflectance_by_band = [0.65]*len(panelCap.images) #inexact, but quick\n",
    "    panel_irradiance = panelCap.panel_irradiance(panel_reflectance_by_band)    \n",
    "    img_type = \"reflectance\"\n",
    "else:\n",
    "    if useDLS:\n",
    "        img_type='reflectance'\n",
    "    else:\n",
    "        img_type = \"radiance\""
   ]
  },
  {
   "cell_type": "code",
   "execution_count": 3,
   "metadata": {},
   "outputs": [
    {
     "name": "stdout",
     "output_type": "stream",
     "text": [
      "Loading ImageSet from: D:\\EPMC_flight\\16thSur22Nov\\F1\\RawImg\n",
      "Processing 477 Captures ...\n",
      "Processing complete.\n",
      "Saving time: 0:12:03.705786\n",
      "Alignment+Saving rate: 0.66 captures per second\n"
     ]
    }
   ],
   "source": [
    "# batch import images\n",
    "imgset = imageset.ImageSet.from_directory(rawImagePath)\n",
    "\n",
    "use_multi_process = True # set to False for single-process saving\n",
    "overwrite_existing = False # skip existing files, set to True to overwrite\n",
    "\n",
    "if not os.path.exists(outputPath):\n",
    "    os.makedirs(outputPath)\n",
    "if generateThumbnails and not os.path.exists(thumbnailPath):\n",
    "    os.makedirs(thumbnailPath)\n",
    "\n",
    "# If we didn't provide a panel above, irradiance set to None will cause DLS data to be used\n",
    "try:\n",
    "    irradiance = panel_irradiance+[0]\n",
    "except NameError:\n",
    "    irradiance = None\n",
    "\n",
    "start_time = datetime.datetime.now()\n",
    "\n",
    "# Save all captures in the imageset as aligned stacks\n",
    "imgset.process_imageset(outputPath,\n",
    "                     thumbnailPath,\n",
    "                     warp_matrices,\n",
    "                     irradiance = irradiance,\n",
    "                     img_type='reflectance',\n",
    "                     multiprocess=use_multi_process, \n",
    "                     overwrite=overwrite_existing)\n",
    "\n",
    "end_time = datetime.datetime.now()\n",
    "\n",
    "print(\"Saving time: {}\".format(end_time-start_time))\n",
    "print(\"Alignment+Saving rate: {:.2f} captures per second\".format(float(len(imgset.captures))/float((end_time-start_time).total_seconds())))"
   ]
  },
  {
   "cell_type": "markdown",
   "metadata": {},
   "source": [
    "# Selecting GPS coordinates\n",
    "\n",
    "Running the following code will allow an interactive plot to automatically pop-up where users can have the flexibility to select the points along the flight swaths to conduct orthomosaicking. One only needs to select the start and end points of each flight swaths as follows:\n",
    "\n",
    "![demo of how to use select_GPS.py](plots/selectGPSdemo.gif)\n",
    "\n",
    "After selecting the GPS points, a file `gps_index.txt` will immediately created in the flight folder, under flight attributes folder:\n",
    "\n",
    "```\n",
    "flight folder (*imagePath*)\n",
    "|\n",
    "│\n",
    "└───flight_attributes (*to be created*)\n",
    "   │   flight_attributes.csv\n",
    "   │   gps_index.txt\n",
    "```"
   ]
  },
  {
   "cell_type": "code",
   "execution_count": 12,
   "metadata": {},
   "outputs": [],
   "source": [
    "%matplotlib qt"
   ]
  },
  {
   "cell_type": "code",
   "execution_count": 14,
   "metadata": {},
   "outputs": [
    {
     "data": {
      "text/plain": [
       "[]"
      ]
     },
     "execution_count": 14,
     "metadata": {},
     "output_type": "execute_result"
    },
    {
     "name": "stdout",
     "output_type": "stream",
     "text": [
      "Coords: [(103.6422191, 1.2333617)]\n",
      "Indices: [440]\n",
      "Coords: [(103.6422191, 1.2333617), (103.6422127, 1.2322857)]\n",
      "Indices: [440, 417]\n",
      "Coords: [(103.6422191, 1.2333617), (103.6422127, 1.2322857), (103.6423309, 1.2333542)]\n",
      "Indices: [440, 417, 386]\n",
      "Coords: [(103.6422191, 1.2333617), (103.6422127, 1.2322857), (103.6423309, 1.2333542), (103.6423251, 1.2322799)]\n",
      "Indices: [440, 417, 386, 409]\n",
      "Coords: [(103.6422191, 1.2333617), (103.6422127, 1.2322857), (103.6423309, 1.2333542), (103.6423251, 1.2322799), (103.6424379, 1.2322622)]\n",
      "Indices: [440, 417, 386, 409, 355]\n",
      "Coords: [(103.6422191, 1.2333617), (103.6422127, 1.2322857), (103.6423309, 1.2333542), (103.6423251, 1.2322799), (103.6424379, 1.2322622), (103.6424431, 1.2333319)]\n",
      "Indices: [440, 417, 386, 409, 355, 378]\n",
      "Coords: [(103.6422191, 1.2333617), (103.6422127, 1.2322857), (103.6423309, 1.2333542), (103.6423251, 1.2322799), (103.6424379, 1.2322622), (103.6424431, 1.2333319), (103.6425523, 1.2333214)]\n",
      "Indices: [440, 417, 386, 409, 355, 378, 325]\n",
      "Coords: [(103.6422191, 1.2333617), (103.6422127, 1.2322857), (103.6423309, 1.2333542), (103.6423251, 1.2322799), (103.6424379, 1.2322622), (103.6424431, 1.2333319), (103.6425523, 1.2333214), (103.6425473, 1.2322571)]\n",
      "Indices: [440, 417, 386, 409, 355, 378, 325, 348]\n",
      "Coords: [(103.6422191, 1.2333617), (103.6422127, 1.2322857), (103.6423309, 1.2333542), (103.6423251, 1.2322799), (103.6424379, 1.2322622), (103.6424431, 1.2333319), (103.6425523, 1.2333214), (103.6425473, 1.2322571), (103.6426627, 1.2333111)]\n",
      "Indices: [440, 417, 386, 409, 355, 378, 325, 348, 316]\n",
      "Coords: [(103.6422191, 1.2333617), (103.6422127, 1.2322857), (103.6423309, 1.2333542), (103.6423251, 1.2322799), (103.6424379, 1.2322622), (103.6424431, 1.2333319), (103.6425523, 1.2333214), (103.6425473, 1.2322571), (103.6426627, 1.2333111), (103.6426626, 1.2322483)]\n",
      "Indices: [440, 417, 386, 409, 355, 378, 325, 348, 316, 293]\n",
      "Coords: [(103.6422191, 1.2333617), (103.6422127, 1.2322857), (103.6423309, 1.2333542), (103.6423251, 1.2322799), (103.6424379, 1.2322622), (103.6424431, 1.2333319), (103.6425523, 1.2333214), (103.6425473, 1.2322571), (103.6426627, 1.2333111), (103.6426626, 1.2322483), (103.6427798, 1.2322689)]\n",
      "Indices: [440, 417, 386, 409, 355, 378, 325, 348, 316, 293, 286]\n",
      "Coords: [(103.6422191, 1.2333617), (103.6422127, 1.2322857), (103.6423309, 1.2333542), (103.6423251, 1.2322799), (103.6424379, 1.2322622), (103.6424431, 1.2333319), (103.6425523, 1.2333214), (103.6425473, 1.2322571), (103.6426627, 1.2333111), (103.6426626, 1.2322483), (103.6427798, 1.2322689), (103.6427834, 1.2332929)]\n",
      "Indices: [440, 417, 386, 409, 355, 378, 325, 348, 316, 293, 286, 264]\n",
      "Coords: [(103.6422191, 1.2333617), (103.6422127, 1.2322857), (103.6423309, 1.2333542), (103.6423251, 1.2322799), (103.6424379, 1.2322622), (103.6424431, 1.2333319), (103.6425523, 1.2333214), (103.6425473, 1.2322571), (103.6426627, 1.2333111), (103.6426626, 1.2322483), (103.6427798, 1.2322689), (103.6427834, 1.2332929), (103.6428914, 1.2333329)]\n",
      "Indices: [440, 417, 386, 409, 355, 378, 325, 348, 316, 293, 286, 264, 255]\n",
      "Coords: [(103.6422191, 1.2333617), (103.6422127, 1.2322857), (103.6423309, 1.2333542), (103.6423251, 1.2322799), (103.6424379, 1.2322622), (103.6424431, 1.2333319), (103.6425523, 1.2333214), (103.6425473, 1.2322571), (103.6426627, 1.2333111), (103.6426626, 1.2322483), (103.6427798, 1.2322689), (103.6427834, 1.2332929), (103.6428914, 1.2333329), (103.6428894, 1.2322647)]\n",
      "Indices: [440, 417, 386, 409, 355, 378, 325, 348, 316, 293, 286, 264, 255, 232]\n",
      "Coords: [(103.6422191, 1.2333617), (103.6422127, 1.2322857), (103.6423309, 1.2333542), (103.6423251, 1.2322799), (103.6424379, 1.2322622), (103.6424431, 1.2333319), (103.6425523, 1.2333214), (103.6425473, 1.2322571), (103.6426627, 1.2333111), (103.6426626, 1.2322483), (103.6427798, 1.2322689), (103.6427834, 1.2332929), (103.6428914, 1.2333329), (103.6428894, 1.2322647), (103.643004, 1.2322392)]\n",
      "Indices: [440, 417, 386, 409, 355, 378, 325, 348, 316, 293, 286, 264, 255, 232, 225]\n",
      "Coords: [(103.6422191, 1.2333617), (103.6422127, 1.2322857), (103.6423309, 1.2333542), (103.6423251, 1.2322799), (103.6424379, 1.2322622), (103.6424431, 1.2333319), (103.6425523, 1.2333214), (103.6425473, 1.2322571), (103.6426627, 1.2333111), (103.6426626, 1.2322483), (103.6427798, 1.2322689), (103.6427834, 1.2332929), (103.6428914, 1.2333329), (103.6428894, 1.2322647), (103.643004, 1.2322392), (103.6430101, 1.2333102)]\n",
      "Indices: [440, 417, 386, 409, 355, 378, 325, 348, 316, 293, 286, 264, 255, 232, 225, 202]\n",
      "Coords: [(103.6422191, 1.2333617), (103.6422127, 1.2322857), (103.6423309, 1.2333542), (103.6423251, 1.2322799), (103.6424379, 1.2322622), (103.6424431, 1.2333319), (103.6425523, 1.2333214), (103.6425473, 1.2322571), (103.6426627, 1.2333111), (103.6426626, 1.2322483), (103.6427798, 1.2322689), (103.6427834, 1.2332929), (103.6428914, 1.2333329), (103.6428894, 1.2322647), (103.643004, 1.2322392), (103.6430101, 1.2333102), (103.64312, 1.2333099)]\n",
      "Indices: [440, 417, 386, 409, 355, 378, 325, 348, 316, 293, 286, 264, 255, 232, 225, 202, 193]\n",
      "Coords: [(103.6422191, 1.2333617), (103.6422127, 1.2322857), (103.6423309, 1.2333542), (103.6423251, 1.2322799), (103.6424379, 1.2322622), (103.6424431, 1.2333319), (103.6425523, 1.2333214), (103.6425473, 1.2322571), (103.6426627, 1.2333111), (103.6426626, 1.2322483), (103.6427798, 1.2322689), (103.6427834, 1.2332929), (103.6428914, 1.2333329), (103.6428894, 1.2322647), (103.643004, 1.2322392), (103.6430101, 1.2333102), (103.64312, 1.2333099), (103.6431099, 1.2322527)]\n",
      "Indices: [440, 417, 386, 409, 355, 378, 325, 348, 316, 293, 286, 264, 255, 232, 225, 202, 193, 170]\n",
      "Coords: [(103.6422191, 1.2333617), (103.6422127, 1.2322857), (103.6423309, 1.2333542), (103.6423251, 1.2322799), (103.6424379, 1.2322622), (103.6424431, 1.2333319), (103.6425523, 1.2333214), (103.6425473, 1.2322571), (103.6426627, 1.2333111), (103.6426626, 1.2322483), (103.6427798, 1.2322689), (103.6427834, 1.2332929), (103.6428914, 1.2333329), (103.6428894, 1.2322647), (103.643004, 1.2322392), (103.6430101, 1.2333102), (103.64312, 1.2333099), (103.6431099, 1.2322527), (103.6432239, 1.2322222)]\n",
      "Indices: [440, 417, 386, 409, 355, 378, 325, 348, 316, 293, 286, 264, 255, 232, 225, 202, 193, 170, 164]\n",
      "Coords: [(103.6422191, 1.2333617), (103.6422127, 1.2322857), (103.6423309, 1.2333542), (103.6423251, 1.2322799), (103.6424379, 1.2322622), (103.6424431, 1.2333319), (103.6425523, 1.2333214), (103.6425473, 1.2322571), (103.6426627, 1.2333111), (103.6426626, 1.2322483), (103.6427798, 1.2322689), (103.6427834, 1.2332929), (103.6428914, 1.2333329), (103.6428894, 1.2322647), (103.643004, 1.2322392), (103.6430101, 1.2333102), (103.64312, 1.2333099), (103.6431099, 1.2322527), (103.6432239, 1.2322222), (103.6432315, 1.2333327)]\n",
      "Indices: [440, 417, 386, 409, 355, 378, 325, 348, 316, 293, 286, 264, 255, 232, 225, 202, 193, 170, 164, 140]\n",
      "Coords: [(103.6422191, 1.2333617), (103.6422127, 1.2322857), (103.6423309, 1.2333542), (103.6423251, 1.2322799), (103.6424379, 1.2322622), (103.6424431, 1.2333319), (103.6425523, 1.2333214), (103.6425473, 1.2322571), (103.6426627, 1.2333111), (103.6426626, 1.2322483), (103.6427798, 1.2322689), (103.6427834, 1.2332929), (103.6428914, 1.2333329), (103.6428894, 1.2322647), (103.643004, 1.2322392), (103.6430101, 1.2333102), (103.64312, 1.2333099), (103.6431099, 1.2322527), (103.6432239, 1.2322222), (103.6432315, 1.2333327), (103.6433453, 1.2333294)]\n",
      "Indices: [440, 417, 386, 409, 355, 378, 325, 348, 316, 293, 286, 264, 255, 232, 225, 202, 193, 170, 164, 140, 132]\n",
      "Coords: [(103.6422191, 1.2333617), (103.6422127, 1.2322857), (103.6423309, 1.2333542), (103.6423251, 1.2322799), (103.6424379, 1.2322622), (103.6424431, 1.2333319), (103.6425523, 1.2333214), (103.6425473, 1.2322571), (103.6426627, 1.2333111), (103.6426626, 1.2322483), (103.6427798, 1.2322689), (103.6427834, 1.2332929), (103.6428914, 1.2333329), (103.6428894, 1.2322647), (103.643004, 1.2322392), (103.6430101, 1.2333102), (103.64312, 1.2333099), (103.6431099, 1.2322527), (103.6432239, 1.2322222), (103.6432315, 1.2333327), (103.6433453, 1.2333294), (103.6433321, 1.2322594)]\n",
      "Indices: [440, 417, 386, 409, 355, 378, 325, 348, 316, 293, 286, 264, 255, 232, 225, 202, 193, 170, 164, 140, 132, 109]\n",
      "Coords: [(103.6422191, 1.2333617), (103.6422127, 1.2322857), (103.6423309, 1.2333542), (103.6423251, 1.2322799), (103.6424379, 1.2322622), (103.6424431, 1.2333319), (103.6425523, 1.2333214), (103.6425473, 1.2322571), (103.6426627, 1.2333111), (103.6426626, 1.2322483), (103.6427798, 1.2322689), (103.6427834, 1.2332929), (103.6428914, 1.2333329), (103.6428894, 1.2322647), (103.643004, 1.2322392), (103.6430101, 1.2333102), (103.64312, 1.2333099), (103.6431099, 1.2322527), (103.6432239, 1.2322222), (103.6432315, 1.2333327), (103.6433453, 1.2333294), (103.6433321, 1.2322594), (103.6434458, 1.2322486)]\n",
      "Indices: [440, 417, 386, 409, 355, 378, 325, 348, 316, 293, 286, 264, 255, 232, 225, 202, 193, 170, 164, 140, 132, 109, 102]\n",
      "Coords: [(103.6422191, 1.2333617), (103.6422127, 1.2322857), (103.6423309, 1.2333542), (103.6423251, 1.2322799), (103.6424379, 1.2322622), (103.6424431, 1.2333319), (103.6425523, 1.2333214), (103.6425473, 1.2322571), (103.6426627, 1.2333111), (103.6426626, 1.2322483), (103.6427798, 1.2322689), (103.6427834, 1.2332929), (103.6428914, 1.2333329), (103.6428894, 1.2322647), (103.643004, 1.2322392), (103.6430101, 1.2333102), (103.64312, 1.2333099), (103.6431099, 1.2322527), (103.6432239, 1.2322222), (103.6432315, 1.2333327), (103.6433453, 1.2333294), (103.6433321, 1.2322594), (103.6434458, 1.2322486), (103.6434633, 1.2333243)]\n",
      "Indices: [440, 417, 386, 409, 355, 378, 325, 348, 316, 293, 286, 264, 255, 232, 225, 202, 193, 170, 164, 140, 132, 109, 102, 79]\n"
     ]
    }
   ],
   "source": [
    "from algorithms.select_GPS import draw_plot\n",
    "imagePath =  r\"D:\\EPMC_flight\\16thSur22Nov\\F1\"\n",
    "draw_plot(os.path.join(imagePath,'flight_attributes'))"
   ]
  }
 ],
 "metadata": {
  "kernelspec": {
   "display_name": "micasenseGeoreferencing",
   "language": "python",
   "name": "python3"
  },
  "language_info": {
   "codemirror_mode": {
    "name": "ipython",
    "version": 3
   },
   "file_extension": ".py",
   "mimetype": "text/x-python",
   "name": "python",
   "nbconvert_exporter": "python",
   "pygments_lexer": "ipython3",
   "version": "3.8.18"
  }
 },
 "nbformat": 4,
 "nbformat_minor": 2
}
